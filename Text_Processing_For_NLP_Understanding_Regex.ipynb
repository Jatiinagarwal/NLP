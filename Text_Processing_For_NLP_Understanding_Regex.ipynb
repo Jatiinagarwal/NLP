{
  "cells": [
    {
      "cell_type": "markdown",
      "metadata": {
        "id": "nKK3xIRQrdi0"
      },
      "source": [
        "# Import the 're' Module"
      ]
    },
    {
      "cell_type": "code",
      "execution_count": 1,
      "metadata": {
        "id": "pKTUaUjardi5"
      },
      "outputs": [],
      "source": [
        "import re"
      ]
    },
    {
      "cell_type": "markdown",
      "metadata": {
        "id": "XLOa2m38rdi6"
      },
      "source": [
        "# Sample Text"
      ]
    },
    {
      "cell_type": "code",
      "execution_count": 2,
      "metadata": {
        "id": "Fqs63qDirdi6"
      },
      "outputs": [],
      "source": [
        "text = \"The quick brown fox jumps over the lazy dog.\""
      ]
    },
    {
      "cell_type": "markdown",
      "metadata": {
        "id": "pgrUifizrdi6"
      },
      "source": [
        "# Basic Regex Operations"
      ]
    },
    {
      "cell_type": "markdown",
      "metadata": {
        "id": "Lvpn-Szhrdi6"
      },
      "source": [
        "Regex allows you to perform various operations on text, such as searching for patterns, replacing text, and splitting strings."
      ]
    },
    {
      "cell_type": "markdown",
      "metadata": {
        "id": "cfiprMtIrdi7"
      },
      "source": [
        "### Searching for a Pattern"
      ]
    },
    {
      "cell_type": "code",
      "execution_count": 3,
      "metadata": {
        "id": "mMLNlaRmrdi7",
        "outputId": "7c85ea28-c62d-4ad8-d236-310dd2d094bf",
        "colab": {
          "base_uri": "https://localhost:8080/"
        }
      },
      "outputs": [
        {
          "output_type": "stream",
          "name": "stdout",
          "text": [
            "Matches: ['fox']\n"
          ]
        }
      ],
      "source": [
        "pattern = r\"fox\"\n",
        "matches = re.findall(pattern, text)\n",
        "print(\"Matches:\", matches)"
      ]
    },
    {
      "cell_type": "markdown",
      "metadata": {
        "id": "ylsdzKbprdi8"
      },
      "source": [
        "### Replacing Text"
      ]
    },
    {
      "cell_type": "code",
      "execution_count": 4,
      "metadata": {
        "id": "Tl96lHAzrdi8",
        "outputId": "55317543-9a36-4ca4-9339-1394c234be7a",
        "colab": {
          "base_uri": "https://localhost:8080/"
        }
      },
      "outputs": [
        {
          "output_type": "stream",
          "name": "stdout",
          "text": [
            "New Text: The quick brown cat jumps over the lazy dog.\n"
          ]
        }
      ],
      "source": [
        "pattern = r\"fox\"\n",
        "replacement = \"cat\"\n",
        "new_text = re.sub(pattern, replacement, text)\n",
        "print(\"New Text:\", new_text)"
      ]
    },
    {
      "cell_type": "markdown",
      "metadata": {
        "id": "kunSch0lrdi8"
      },
      "source": [
        "### Splitting Strings"
      ]
    },
    {
      "cell_type": "code",
      "execution_count": 5,
      "metadata": {
        "id": "7RDexexbrdi8",
        "outputId": "f41adead-980b-4f19-b982-0adb826f370b",
        "colab": {
          "base_uri": "https://localhost:8080/"
        }
      },
      "outputs": [
        {
          "output_type": "stream",
          "name": "stdout",
          "text": [
            "Split Text: ['The', 'quick', 'brown', 'fox', 'jumps', 'over', 'the', 'lazy', 'dog.']\n"
          ]
        }
      ],
      "source": [
        "pattern = r\"\\s\"  # Split on spaces\n",
        "split_text = re.split(pattern, text)\n",
        "print(\"Split Text:\", split_text)"
      ]
    },
    {
      "cell_type": "markdown",
      "metadata": {
        "id": "lV5XOd7wrdi8"
      },
      "source": [
        "# Character Classes and Quantifiers"
      ]
    },
    {
      "cell_type": "markdown",
      "metadata": {
        "id": "97DnVWLPrdi8"
      },
      "source": [
        "### Character Classes"
      ]
    },
    {
      "cell_type": "code",
      "execution_count": 6,
      "metadata": {
        "id": "xsMSzBi6rdi8",
        "outputId": "499e9dc3-f4f5-4efa-eca5-0e816600f5c1",
        "colab": {
          "base_uri": "https://localhost:8080/"
        }
      },
      "outputs": [
        {
          "output_type": "stream",
          "name": "stdout",
          "text": [
            "Vowels: ['e', 'u', 'i', 'o', 'o', 'u', 'o', 'e', 'e', 'a', 'o']\n"
          ]
        }
      ],
      "source": [
        "pattern = r\"[aeiou]\"\n",
        "vowels = re.findall(pattern, text)\n",
        "print(\"Vowels:\", vowels)"
      ]
    },
    {
      "cell_type": "markdown",
      "metadata": {
        "id": "3PpVFPDZrdi9"
      },
      "source": [
        "### Quantifiers"
      ]
    },
    {
      "cell_type": "code",
      "execution_count": 10,
      "metadata": {
        "id": "UnyFfnMrrdi9",
        "outputId": "d7ee47b5-6560-42a8-c2b9-256dbaff021f",
        "colab": {
          "base_uri": "https://localhost:8080/"
        }
      },
      "outputs": [
        {
          "output_type": "stream",
          "name": "stdout",
          "text": [
            "Matches: []\n"
          ]
        }
      ],
      "source": [
        "pattern = r\"o{2}\"  # Matches two consecutive 'o' characters\n",
        "matches = re.findall(pattern, text)\n",
        "print(\"Matches:\", matches)"
      ]
    },
    {
      "cell_type": "markdown",
      "metadata": {
        "id": "tb19V_yArdi9"
      },
      "source": [
        "# Metacharacters and Anchors"
      ]
    },
    {
      "cell_type": "markdown",
      "metadata": {
        "id": "U-__aNiXrdi9"
      },
      "source": [
        "### Metacharacters"
      ]
    },
    {
      "cell_type": "code",
      "execution_count": 12,
      "metadata": {
        "id": "aCPlLdPzrdi9",
        "outputId": "1492fb8b-4ee7-4f9c-b699-5b1a0ad300a0",
        "colab": {
          "base_uri": "https://localhost:8080/"
        }
      },
      "outputs": [
        {
          "output_type": "stream",
          "name": "stdout",
          "text": [
            "Matches: ['The', 'fox', 'the', 'dog']\n"
          ]
        }
      ],
      "source": [
        "pattern = r\"\\b\\w{3}\\b\"  # Matches three-letter words\n",
        "matches = re.findall(pattern, text)\n",
        "print(\"Matches:\", matches)"
      ]
    },
    {
      "cell_type": "markdown",
      "metadata": {
        "id": "SxSoU29Drdi9"
      },
      "source": [
        "### Anchors"
      ]
    },
    {
      "cell_type": "code",
      "execution_count": 13,
      "metadata": {
        "id": "KBoYgBD4rdi9",
        "outputId": "f323f53d-4c2e-4f09-8d21-f4b2e1d9f820",
        "colab": {
          "base_uri": "https://localhost:8080/"
        }
      },
      "outputs": [
        {
          "output_type": "stream",
          "name": "stdout",
          "text": [
            "Matches: ['The']\n"
          ]
        }
      ],
      "source": [
        "pattern = r\"^The\"  # Matches 'The' at the beginning of the string\n",
        "matches = re.findall(pattern, text)\n",
        "print(\"Matches:\", matches)"
      ]
    },
    {
      "cell_type": "markdown",
      "metadata": {
        "id": "Zmo0VlvErdi9"
      },
      "source": [
        "# Grouping and Capturing"
      ]
    },
    {
      "cell_type": "code",
      "execution_count": 14,
      "metadata": {
        "id": "29jFNvwFrdi9",
        "outputId": "ffbadead-efcf-4ec8-f96d-0c123b836aff",
        "colab": {
          "base_uri": "https://localhost:8080/"
        }
      },
      "outputs": [
        {
          "output_type": "stream",
          "name": "stdout",
          "text": [
            "Matches: [('The', 'quick'), ('brown', 'fox'), ('jumps', 'over'), ('the', 'lazy')]\n"
          ]
        }
      ],
      "source": [
        "pattern = r\"(\\w+)\\s(\\w+)\"  # Matches two consecutive words\n",
        "matches = re.findall(pattern, text)\n",
        "print(\"Matches:\", matches)"
      ]
    },
    {
      "cell_type": "markdown",
      "metadata": {
        "id": "AMsWab26rdi9"
      },
      "source": [
        "# Using Regex for Tokenization"
      ]
    },
    {
      "cell_type": "markdown",
      "metadata": {
        "id": "g7ibHqlqrdi9"
      },
      "source": [
        "Regex is also useful for tokenizing text into words or sentences."
      ]
    },
    {
      "cell_type": "markdown",
      "metadata": {
        "id": "K9EbAfxkrdi9"
      },
      "source": [
        "### Tokenizing into Words"
      ]
    },
    {
      "cell_type": "code",
      "execution_count": 15,
      "metadata": {
        "id": "-FXny7ctrdi9",
        "outputId": "762072c6-c2b4-4da7-bb3d-2f898fd9f0e0",
        "colab": {
          "base_uri": "https://localhost:8080/"
        }
      },
      "outputs": [
        {
          "output_type": "stream",
          "name": "stdout",
          "text": [
            "Words: ['The', 'quick', 'brown', 'fox', 'jumps', 'over', 'the', 'lazy', 'dog.']\n"
          ]
        }
      ],
      "source": [
        "pattern = r\"\\s\"  # Split on spaces\n",
        "words = re.split(pattern, text)\n",
        "print(\"Words:\", words)"
      ]
    },
    {
      "cell_type": "markdown",
      "metadata": {
        "id": "C-3aLtYUrdi-"
      },
      "source": [
        "### Tokenizing into Sentences"
      ]
    },
    {
      "cell_type": "code",
      "execution_count": 16,
      "metadata": {
        "id": "S2592Wx-rdi-",
        "outputId": "2d0db3a8-d300-4035-bac4-dad5a91347e3",
        "colab": {
          "base_uri": "https://localhost:8080/"
        }
      },
      "outputs": [
        {
          "output_type": "stream",
          "name": "stdout",
          "text": [
            "Sentences: ['The quick brown fox jumps over the lazy dog.']\n"
          ]
        }
      ],
      "source": [
        "pattern = r\"\\.\\s\"  # Split after periods followed by a space\n",
        "sentences = re.split(pattern, text)\n",
        "print(\"Sentences:\", sentences)"
      ]
    },
    {
      "cell_type": "code",
      "execution_count": 16,
      "metadata": {
        "id": "qAxwdg1prdi-"
      },
      "outputs": [],
      "source": []
    }
  ],
  "metadata": {
    "kernelspec": {
      "display_name": "Python 3",
      "language": "python",
      "name": "python3"
    },
    "language_info": {
      "codemirror_mode": {
        "name": "ipython",
        "version": 3
      },
      "file_extension": ".py",
      "mimetype": "text/x-python",
      "name": "python",
      "nbconvert_exporter": "python",
      "pygments_lexer": "ipython3",
      "version": "3.8.5"
    },
    "colab": {
      "provenance": []
    }
  },
  "nbformat": 4,
  "nbformat_minor": 0
}